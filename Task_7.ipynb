{
 "cells": [
  {
   "cell_type": "code",
   "execution_count": 3,
   "id": "432f178c-6371-431d-ae98-38da1a52a02f",
   "metadata": {},
   "outputs": [],
   "source": [
    "import pandas as pd\n",
    "import sqlite3"
   ]
  },
  {
   "cell_type": "code",
   "execution_count": 9,
   "id": "4f4486e5-5d97-49ce-bf49-957b12d4b5b9",
   "metadata": {},
   "outputs": [],
   "source": [
    "con = sqlite3.connect(\"sales_data.db\")"
   ]
  },
  {
   "cell_type": "code",
   "execution_count": 11,
   "id": "f8d98ed4-1bc3-43c1-9d85-797a75f9fc1f",
   "metadata": {},
   "outputs": [],
   "source": [
    "cursor = con.cursor()"
   ]
  },
  {
   "cell_type": "code",
   "execution_count": 17,
   "id": "25dccb79-d3f5-4455-8ba8-c9e0a0f5f0ed",
   "metadata": {},
   "outputs": [
    {
     "data": {
      "text/plain": [
       "<sqlite3.Cursor at 0x1c8583c9ac0>"
      ]
     },
     "execution_count": 17,
     "metadata": {},
     "output_type": "execute_result"
    }
   ],
   "source": [
    "cursor.execute(\"\"\"CREATE TABLE sales (sales_id INTEGER PRIMARY KEY, product_name TEXT, quantity INTEGER, revenue REAL)\"\"\")"
   ]
  },
  {
   "cell_type": "code",
   "execution_count": 21,
   "id": "d105b319-63c0-4947-8d5c-47e2b2645d20",
   "metadata": {},
   "outputs": [
    {
     "data": {
      "text/plain": [
       "<sqlite3.Cursor at 0x1c8583c9ac0>"
      ]
     },
     "execution_count": 21,
     "metadata": {},
     "output_type": "execute_result"
    }
   ],
   "source": [
    "cursor.execute(\"INSERT INTO sales VALUES (1, 'Laptop', 10, 1200.00)\")"
   ]
  },
  {
   "cell_type": "code",
   "execution_count": 33,
   "id": "dcb82817-feed-401e-be11-b4bad8d360e4",
   "metadata": {},
   "outputs": [
    {
     "data": {
      "text/plain": [
       "<sqlite3.Cursor at 0x1c8583c9ac0>"
      ]
     },
     "execution_count": 33,
     "metadata": {},
     "output_type": "execute_result"
    }
   ],
   "source": [
    "cursor.execute(\"SELECT product_name, SUM(quantity) AS total_qty, SUM(revenue) AS total_revenue FROM sales GROUP BY product_name\")"
   ]
  },
  {
   "cell_type": "code",
   "execution_count": 39,
   "id": "ee32716b-c6c7-4c6c-9124-f9a2ef30d2f6",
   "metadata": {},
   "outputs": [
    {
     "name": "stdout",
     "output_type": "stream",
     "text": [
      "('Laptop', 10, 1200.0)\n"
     ]
    }
   ],
   "source": [
    "rows = cursor.fetchall()\n",
    "for row in rows:\n",
    "    print(row)"
   ]
  },
  {
   "cell_type": "code",
   "execution_count": 95,
   "id": "c521de85-f736-4e56-840c-dc6a5c0ad049",
   "metadata": {},
   "outputs": [],
   "source": [
    "import matplotlib.pyplot as plt"
   ]
  },
  {
   "cell_type": "code",
   "execution_count": 81,
   "id": "90bf7842-195b-4908-9e9d-91d4ae061cf0",
   "metadata": {},
   "outputs": [],
   "source": [
    "query = \"SELECT product_name, SUM(quantity) AS total_qty,  SUM(revenue) AS total_revenue FROM sales GROUP BY product_name\""
   ]
  },
  {
   "cell_type": "code",
   "execution_count": 83,
   "id": "e0cab32a-27f0-4492-ba19-ef1eb8b4fe82",
   "metadata": {},
   "outputs": [],
   "source": [
    "df = pd.read_sql_query(query, con)"
   ]
  },
  {
   "cell_type": "code",
   "execution_count": 85,
   "id": "5bc5ba2e-bb42-48bd-88ca-0f6ed5d068d7",
   "metadata": {},
   "outputs": [
    {
     "data": {
      "text/plain": [
       "<Axes: xlabel='product_name'>"
      ]
     },
     "execution_count": 85,
     "metadata": {},
     "output_type": "execute_result"
    },
    {
     "data": {
      "image/png": "[encoded data removed]",
      "text/plain": [
       "<Figure size 640x480 with 1 Axes>"
      ]
     },
     "metadata": {},
     "output_type": "display_data"
    }
   ],
   "source": [
    "df.plot(kind='bar', x='product_name', y='total_revenue')"
   ]
  },
  {
   "cell_type": "code",
   "execution_count": 97,
   "id": "ce413cb7-a343-49eb-89de-c3670aabd3fd",
   "metadata": {},
   "outputs": [
    {
     "data": {
      "text/plain": [
       "<Figure size 640x480 with 0 Axes>"
      ]
     },
     "metadata": {},
     "output_type": "display_data"
    }
   ],
   "source": [
    "plt.savefig('sales_chart.png')"
   ]
  }
 ],
 "metadata": {
  "kernelspec": {
   "display_name": "Python [conda env:base] *",
   "language": "python",
   "name": "conda-base-py"
  },
  "language_info": {
   "codemirror_mode": {
    "name": "ipython",
    "version": 3
   },
   "file_extension": ".py",
   "mimetype": "text/x-python",
   "name": "python",
   "nbconvert_exporter": "python",
   "pygments_lexer": "ipython3",
   "version": "3.12.7"
  }
 },
 "nbformat": 4,
 "nbformat_minor": 5
}
